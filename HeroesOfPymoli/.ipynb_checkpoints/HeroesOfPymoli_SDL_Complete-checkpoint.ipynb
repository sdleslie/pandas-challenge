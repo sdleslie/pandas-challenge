{
 "cells": [
  {
   "cell_type": "code",
   "execution_count": 217,
   "metadata": {},
   "outputs": [],
   "source": [
    "# Dependencies and Setup\n",
    "import pandas as pd\n",
    "import numpy as np\n",
    "\n",
    "# File to Load (Remember to Change These)\n",
    "file_to_load = \"Resources/purchase_data.csv\"\n",
    "\n",
    "# Read Purchasing File and store into Pandas data frame\n",
    "purchase_data = pd.read_csv(file_to_load)"
   ]
  },
  {
   "cell_type": "markdown",
   "metadata": {},
   "source": [
    "## Player Count\n",
    "\n",
    "* Total Number of Players"
   ]
  },
  {
   "cell_type": "code",
   "execution_count": 218,
   "metadata": {},
   "outputs": [
    {
     "data": {
      "text/html": [
       "<div>\n",
       "<style scoped>\n",
       "    .dataframe tbody tr th:only-of-type {\n",
       "        vertical-align: middle;\n",
       "    }\n",
       "\n",
       "    .dataframe tbody tr th {\n",
       "        vertical-align: top;\n",
       "    }\n",
       "\n",
       "    .dataframe thead th {\n",
       "        text-align: right;\n",
       "    }\n",
       "</style>\n",
       "<table border=\"1\" class=\"dataframe\">\n",
       "  <thead>\n",
       "    <tr style=\"text-align: right;\">\n",
       "      <th></th>\n",
       "      <th>Total Players</th>\n",
       "    </tr>\n",
       "  </thead>\n",
       "  <tbody>\n",
       "    <tr>\n",
       "      <th>0</th>\n",
       "      <td>576</td>\n",
       "    </tr>\n",
       "  </tbody>\n",
       "</table>\n",
       "</div>"
      ],
      "text/plain": [
       "   Total Players\n",
       "0            576"
      ]
     },
     "execution_count": 218,
     "metadata": {},
     "output_type": "execute_result"
    }
   ],
   "source": [
    "# Player Count\n",
    "# Set players to count rows\n",
    "# Create dataframe with one summary field\n",
    "players_df = pd.DataFrame({\"Total Players\":[players]})\n",
    "players_df"
   ]
  },
  {
   "cell_type": "markdown",
   "metadata": {},
   "source": [
    "### Purchasing Analysis (Total)\n",
    "\n",
    "* Number of Unique Items\n",
    "* Average Purchase Price\n",
    "* Total Number of Purchases\n",
    "* Total Revenue"
   ]
  },
  {
   "cell_type": "code",
   "execution_count": 198,
   "metadata": {},
   "outputs": [
    {
     "data": {
      "text/html": [
       "<style  type=\"text/css\" >\n",
       "</style><table id=\"T_3904e6b4_c455_11ea_8928_a4bb6da0a148\" ><thead>    <tr>        <th class=\"blank level0\" ></th>        <th class=\"col_heading level0 col0\" >Number of Unique Items</th>        <th class=\"col_heading level0 col1\" >Average Price</th>        <th class=\"col_heading level0 col2\" >Number of Purchases</th>        <th class=\"col_heading level0 col3\" >Total Revenue</th>    </tr></thead><tbody>\n",
       "                <tr>\n",
       "                        <th id=\"T_3904e6b4_c455_11ea_8928_a4bb6da0a148level0_row0\" class=\"row_heading level0 row0\" >0</th>\n",
       "                        <td id=\"T_3904e6b4_c455_11ea_8928_a4bb6da0a148row0_col0\" class=\"data row0 col0\" >179</td>\n",
       "                        <td id=\"T_3904e6b4_c455_11ea_8928_a4bb6da0a148row0_col1\" class=\"data row0 col1\" >$3.05</td>\n",
       "                        <td id=\"T_3904e6b4_c455_11ea_8928_a4bb6da0a148row0_col2\" class=\"data row0 col2\" >780</td>\n",
       "                        <td id=\"T_3904e6b4_c455_11ea_8928_a4bb6da0a148row0_col3\" class=\"data row0 col3\" >$2,379.77</td>\n",
       "            </tr>\n",
       "    </tbody></table>"
      ],
      "text/plain": [
       "<pandas.io.formats.style.Styler at 0x2b4aff740c8>"
      ]
     },
     "execution_count": 198,
     "metadata": {},
     "output_type": "execute_result"
    }
   ],
   "source": [
    "## Purchasing Analysis (Total)\n",
    "# Calculate Summary Stats\n",
    "# unique_items = len(purchase_data['Item ID'].unique())\n",
    "# unique_players = len(purchase_data['SN'].unique())\n",
    "\n",
    "purchases = purchase_data['Item ID'].count()\n",
    "unique_items = purchase_data['Item ID'].nunique(dropna=True)\n",
    "player_count = purchase_data['SN'].nunique(dropna=True)\n",
    "\n",
    "# average_price = purchase_data.groupby('Price').mean()\n",
    "average_price = purchase_data['Price'].mean()\n",
    "total_revenue = purchase_data['Price'].sum()\n",
    "summary_df = pd.DataFrame({'Number of Unique Items':[unique_items],\n",
    "#                           'Player Count': [player_count],\n",
    "                           'Average Price': [average_price],\n",
    "                           'Number of Purchases':[purchases],\n",
    "                           'Total Revenue':[total_revenue]})\n",
    "summary = summary_df.style.format({'Average Price':'${:.2f}','Total Revenue':'${:,.2f}'})\n",
    "summary"
   ]
  },
  {
   "cell_type": "markdown",
   "metadata": {},
   "source": [
    "### Gender Demographics\n",
    "\n",
    "* Percentage and Count of Male Players\n",
    "* Percentage and Count of Female Players\n",
    "* Percentage and Count of Other / Non-Disclosed"
   ]
  },
  {
   "cell_type": "code",
   "execution_count": 219,
   "metadata": {},
   "outputs": [
    {
     "data": {
      "text/html": [
       "<style  type=\"text/css\" >\n",
       "</style><table id=\"T_72b8428a_c4b5_11ea_8cf9_a4bb6da0a148\" ><thead>    <tr>        <th class=\"blank level0\" ></th>        <th class=\"col_heading level0 col0\" >Total Count</th>        <th class=\"col_heading level0 col1\" >Percentage of Players</th>    </tr>    <tr>        <th class=\"index_name level0\" >Gender</th>        <th class=\"blank\" ></th>        <th class=\"blank\" ></th>    </tr></thead><tbody>\n",
       "                <tr>\n",
       "                        <th id=\"T_72b8428a_c4b5_11ea_8cf9_a4bb6da0a148level0_row0\" class=\"row_heading level0 row0\" >Male</th>\n",
       "                        <td id=\"T_72b8428a_c4b5_11ea_8cf9_a4bb6da0a148row0_col0\" class=\"data row0 col0\" >484</td>\n",
       "                        <td id=\"T_72b8428a_c4b5_11ea_8cf9_a4bb6da0a148row0_col1\" class=\"data row0 col1\" >84.03%</td>\n",
       "            </tr>\n",
       "            <tr>\n",
       "                        <th id=\"T_72b8428a_c4b5_11ea_8cf9_a4bb6da0a148level0_row1\" class=\"row_heading level0 row1\" >Female</th>\n",
       "                        <td id=\"T_72b8428a_c4b5_11ea_8cf9_a4bb6da0a148row1_col0\" class=\"data row1 col0\" >81</td>\n",
       "                        <td id=\"T_72b8428a_c4b5_11ea_8cf9_a4bb6da0a148row1_col1\" class=\"data row1 col1\" >14.06%</td>\n",
       "            </tr>\n",
       "            <tr>\n",
       "                        <th id=\"T_72b8428a_c4b5_11ea_8cf9_a4bb6da0a148level0_row2\" class=\"row_heading level0 row2\" >Other / Non-Disclosed</th>\n",
       "                        <td id=\"T_72b8428a_c4b5_11ea_8cf9_a4bb6da0a148row2_col0\" class=\"data row2 col0\" >11</td>\n",
       "                        <td id=\"T_72b8428a_c4b5_11ea_8cf9_a4bb6da0a148row2_col1\" class=\"data row2 col1\" >1.91%</td>\n",
       "            </tr>\n",
       "    </tbody></table>"
      ],
      "text/plain": [
       "<pandas.io.formats.style.Styler at 0x2b4adc61908>"
      ]
     },
     "execution_count": 219,
     "metadata": {},
     "output_type": "execute_result"
    }
   ],
   "source": [
    "## Gender Demographics\n",
    "gender_df = purchase_data.groupby(['Gender'])\n",
    "player_total = purchase_data['SN'].nunique(dropna=True)\n",
    "player_count = gender_df['SN'].nunique(dropna=True)\n",
    "percent_gender = player_count / player_total\n",
    "gender_summary = pd.DataFrame({'Total Count':player_count,'Percentage of Players':percent_gender})\n",
    "gender_summary = gender_summary.sort_values('Total Count',ascending=False)\n",
    "gender_summary = gender_summary.style.format({'Percentage of Players':'{:.2%}'})\n",
    "gender_summary"
   ]
  },
  {
   "cell_type": "markdown",
   "metadata": {},
   "source": [
    "### Purchasing Analysis (Gender)\n",
    "\n",
    "* The below each broken by gender\n",
    "  * Purchase Count\n",
    "  * Average Purchase Price\n",
    "  * Total Purchase Value\n",
    "  * Average Purchase Total per Person by Gender"
   ]
  },
  {
   "cell_type": "code",
   "execution_count": 223,
   "metadata": {},
   "outputs": [
    {
     "data": {
      "text/html": [
       "<style  type=\"text/css\" >\n",
       "</style><table id=\"T_545c7818_c4b6_11ea_9121_a4bb6da0a148\" ><thead>    <tr>        <th class=\"blank level0\" ></th>        <th class=\"col_heading level0 col0\" >Purchase Count</th>        <th class=\"col_heading level0 col1\" >Average Purchase Price</th>        <th class=\"col_heading level0 col2\" >Avg Total Purchase/Person</th>    </tr>    <tr>        <th class=\"index_name level0\" >Gender</th>        <th class=\"blank\" ></th>        <th class=\"blank\" ></th>        <th class=\"blank\" ></th>    </tr></thead><tbody>\n",
       "                <tr>\n",
       "                        <th id=\"T_545c7818_c4b6_11ea_9121_a4bb6da0a148level0_row0\" class=\"row_heading level0 row0\" >Male</th>\n",
       "                        <td id=\"T_545c7818_c4b6_11ea_9121_a4bb6da0a148row0_col0\" class=\"data row0 col0\" >652</td>\n",
       "                        <td id=\"T_545c7818_c4b6_11ea_9121_a4bb6da0a148row0_col1\" class=\"data row0 col1\" >$3.02</td>\n",
       "                        <td id=\"T_545c7818_c4b6_11ea_9121_a4bb6da0a148row0_col2\" class=\"data row0 col2\" >$4.07</td>\n",
       "            </tr>\n",
       "            <tr>\n",
       "                        <th id=\"T_545c7818_c4b6_11ea_9121_a4bb6da0a148level0_row1\" class=\"row_heading level0 row1\" >Female</th>\n",
       "                        <td id=\"T_545c7818_c4b6_11ea_9121_a4bb6da0a148row1_col0\" class=\"data row1 col0\" >113</td>\n",
       "                        <td id=\"T_545c7818_c4b6_11ea_9121_a4bb6da0a148row1_col1\" class=\"data row1 col1\" >$3.20</td>\n",
       "                        <td id=\"T_545c7818_c4b6_11ea_9121_a4bb6da0a148row1_col2\" class=\"data row1 col2\" >$4.47</td>\n",
       "            </tr>\n",
       "            <tr>\n",
       "                        <th id=\"T_545c7818_c4b6_11ea_9121_a4bb6da0a148level0_row2\" class=\"row_heading level0 row2\" >Other / Non-Disclosed</th>\n",
       "                        <td id=\"T_545c7818_c4b6_11ea_9121_a4bb6da0a148row2_col0\" class=\"data row2 col0\" >15</td>\n",
       "                        <td id=\"T_545c7818_c4b6_11ea_9121_a4bb6da0a148row2_col1\" class=\"data row2 col1\" >$3.35</td>\n",
       "                        <td id=\"T_545c7818_c4b6_11ea_9121_a4bb6da0a148row2_col2\" class=\"data row2 col2\" >$4.56</td>\n",
       "            </tr>\n",
       "    </tbody></table>"
      ],
      "text/plain": [
       "<pandas.io.formats.style.Styler at 0x2b4aff8fc48>"
      ]
     },
     "execution_count": 223,
     "metadata": {},
     "output_type": "execute_result"
    }
   ],
   "source": [
    "## Purchasing Analysis (Gender)\n",
    "gender_df = purchase_data.groupby(['Gender'])\n",
    "purchase_count = gender_df['Purchase ID'].count()\n",
    "player_total = purchase_data['SN'].nunique(dropna=True)\n",
    "player_count = gender_df['SN'].nunique(dropna=True)\n",
    "average_price = gender_df['Price'].sum() / gender_df['Purchase ID'].count()\n",
    "# Sum the pices by gender and divide by the number of unique customers by gender\n",
    "total_price_per = gender_df['Price'].sum() / player_count\n",
    "gender_df = pd.DataFrame({'Purchase Count':purchase_count\n",
    "                           ,'Average Purchase Price':average_price\n",
    "                           ,'Avg Total Purchase/Person':total_price_per})\n",
    "gender_df = gender_df.sort_values('Purchase Count',ascending=False)\n",
    "gender_df = gender_df.style.format({'Average Purchase Price':   '${:,.2f}',\n",
    "                                        'Avg Total Purchase/Person':'${:,.2f}'})\n",
    "gender_df"
   ]
  },
  {
   "cell_type": "markdown",
   "metadata": {},
   "source": [
    "### Age Demographics\n",
    "\n",
    "* The below each broken into bins of 4 years (i.e. &lt;10, 10-14, 15-19, etc.)\n",
    "  * Purchase Count\n",
    "  * Average Purchase Price\n",
    "  * Total Purchase Value\n",
    "  * Average Purchase Total per Person by Age Group"
   ]
  },
  {
   "cell_type": "code",
   "execution_count": 225,
   "metadata": {},
   "outputs": [],
   "source": [
    "## Purchasing Analysis (Age) - Bins Setup\n",
    "bins = [0,9.9,14,19,24,29,34,39,100]\n",
    "bin_names = ['<10','10-14','15-19','20-24','25-29','30-34','35-39','40+']\n",
    "purchase_data['Age Group'] = pd.cut(purchase_data['Age'], bins, labels=bin_names)\n",
    "age_groups = purchase_data.groupby('Age Group')"
   ]
  },
  {
   "cell_type": "code",
   "execution_count": 226,
   "metadata": {},
   "outputs": [],
   "source": [
    "## Age Demographics\n",
    "player_total = purchase_data['SN'].nunique(dropna=True)\n",
    "player_count = age_groups['SN'].nunique(dropna=True)\n",
    "percent_players = player_count/player_total\n",
    "age_df = pd.DataFrame({'Total Count':player_count,\n",
    "                       'Percentage of Players':percent_players})\n",
    "age_df['Percentage of Players'] = age_df['Percentage of Players'].map('{:,.2%}'.format)"
   ]
  },
  {
   "cell_type": "code",
   "execution_count": 227,
   "metadata": {},
   "outputs": [
    {
     "data": {
      "text/html": [
       "<style  type=\"text/css\" >\n",
       "</style><table id=\"T_75f296e6_c4b6_11ea_9a23_a4bb6da0a148\" ><thead>    <tr>        <th class=\"blank level0\" ></th>        <th class=\"col_heading level0 col0\" >Purchase Count</th>        <th class=\"col_heading level0 col1\" >Average Purchase Price</th>        <th class=\"col_heading level0 col2\" >Total Purchase Value</th>        <th class=\"col_heading level0 col3\" >Avg Total Purchase/Person</th>    </tr>    <tr>        <th class=\"index_name level0\" >Age Group</th>        <th class=\"blank\" ></th>        <th class=\"blank\" ></th>        <th class=\"blank\" ></th>        <th class=\"blank\" ></th>    </tr></thead><tbody>\n",
       "                <tr>\n",
       "                        <th id=\"T_75f296e6_c4b6_11ea_9a23_a4bb6da0a148level0_row0\" class=\"row_heading level0 row0\" ><10</th>\n",
       "                        <td id=\"T_75f296e6_c4b6_11ea_9a23_a4bb6da0a148row0_col0\" class=\"data row0 col0\" >23</td>\n",
       "                        <td id=\"T_75f296e6_c4b6_11ea_9a23_a4bb6da0a148row0_col1\" class=\"data row0 col1\" >$3.35</td>\n",
       "                        <td id=\"T_75f296e6_c4b6_11ea_9a23_a4bb6da0a148row0_col2\" class=\"data row0 col2\" >$77.13</td>\n",
       "                        <td id=\"T_75f296e6_c4b6_11ea_9a23_a4bb6da0a148row0_col3\" class=\"data row0 col3\" >$4.54</td>\n",
       "            </tr>\n",
       "            <tr>\n",
       "                        <th id=\"T_75f296e6_c4b6_11ea_9a23_a4bb6da0a148level0_row1\" class=\"row_heading level0 row1\" >10-14</th>\n",
       "                        <td id=\"T_75f296e6_c4b6_11ea_9a23_a4bb6da0a148row1_col0\" class=\"data row1 col0\" >28</td>\n",
       "                        <td id=\"T_75f296e6_c4b6_11ea_9a23_a4bb6da0a148row1_col1\" class=\"data row1 col1\" >$2.96</td>\n",
       "                        <td id=\"T_75f296e6_c4b6_11ea_9a23_a4bb6da0a148row1_col2\" class=\"data row1 col2\" >$82.78</td>\n",
       "                        <td id=\"T_75f296e6_c4b6_11ea_9a23_a4bb6da0a148row1_col3\" class=\"data row1 col3\" >$3.76</td>\n",
       "            </tr>\n",
       "            <tr>\n",
       "                        <th id=\"T_75f296e6_c4b6_11ea_9a23_a4bb6da0a148level0_row2\" class=\"row_heading level0 row2\" >15-19</th>\n",
       "                        <td id=\"T_75f296e6_c4b6_11ea_9a23_a4bb6da0a148row2_col0\" class=\"data row2 col0\" >136</td>\n",
       "                        <td id=\"T_75f296e6_c4b6_11ea_9a23_a4bb6da0a148row2_col1\" class=\"data row2 col1\" >$3.04</td>\n",
       "                        <td id=\"T_75f296e6_c4b6_11ea_9a23_a4bb6da0a148row2_col2\" class=\"data row2 col2\" >$412.89</td>\n",
       "                        <td id=\"T_75f296e6_c4b6_11ea_9a23_a4bb6da0a148row2_col3\" class=\"data row2 col3\" >$3.86</td>\n",
       "            </tr>\n",
       "            <tr>\n",
       "                        <th id=\"T_75f296e6_c4b6_11ea_9a23_a4bb6da0a148level0_row3\" class=\"row_heading level0 row3\" >20-24</th>\n",
       "                        <td id=\"T_75f296e6_c4b6_11ea_9a23_a4bb6da0a148row3_col0\" class=\"data row3 col0\" >365</td>\n",
       "                        <td id=\"T_75f296e6_c4b6_11ea_9a23_a4bb6da0a148row3_col1\" class=\"data row3 col1\" >$3.05</td>\n",
       "                        <td id=\"T_75f296e6_c4b6_11ea_9a23_a4bb6da0a148row3_col2\" class=\"data row3 col2\" >$1,114.06</td>\n",
       "                        <td id=\"T_75f296e6_c4b6_11ea_9a23_a4bb6da0a148row3_col3\" class=\"data row3 col3\" >$4.32</td>\n",
       "            </tr>\n",
       "            <tr>\n",
       "                        <th id=\"T_75f296e6_c4b6_11ea_9a23_a4bb6da0a148level0_row4\" class=\"row_heading level0 row4\" >25-29</th>\n",
       "                        <td id=\"T_75f296e6_c4b6_11ea_9a23_a4bb6da0a148row4_col0\" class=\"data row4 col0\" >101</td>\n",
       "                        <td id=\"T_75f296e6_c4b6_11ea_9a23_a4bb6da0a148row4_col1\" class=\"data row4 col1\" >$2.90</td>\n",
       "                        <td id=\"T_75f296e6_c4b6_11ea_9a23_a4bb6da0a148row4_col2\" class=\"data row4 col2\" >$293.00</td>\n",
       "                        <td id=\"T_75f296e6_c4b6_11ea_9a23_a4bb6da0a148row4_col3\" class=\"data row4 col3\" >$3.81</td>\n",
       "            </tr>\n",
       "            <tr>\n",
       "                        <th id=\"T_75f296e6_c4b6_11ea_9a23_a4bb6da0a148level0_row5\" class=\"row_heading level0 row5\" >30-34</th>\n",
       "                        <td id=\"T_75f296e6_c4b6_11ea_9a23_a4bb6da0a148row5_col0\" class=\"data row5 col0\" >73</td>\n",
       "                        <td id=\"T_75f296e6_c4b6_11ea_9a23_a4bb6da0a148row5_col1\" class=\"data row5 col1\" >$2.93</td>\n",
       "                        <td id=\"T_75f296e6_c4b6_11ea_9a23_a4bb6da0a148row5_col2\" class=\"data row5 col2\" >$214.00</td>\n",
       "                        <td id=\"T_75f296e6_c4b6_11ea_9a23_a4bb6da0a148row5_col3\" class=\"data row5 col3\" >$4.12</td>\n",
       "            </tr>\n",
       "            <tr>\n",
       "                        <th id=\"T_75f296e6_c4b6_11ea_9a23_a4bb6da0a148level0_row6\" class=\"row_heading level0 row6\" >35-39</th>\n",
       "                        <td id=\"T_75f296e6_c4b6_11ea_9a23_a4bb6da0a148row6_col0\" class=\"data row6 col0\" >41</td>\n",
       "                        <td id=\"T_75f296e6_c4b6_11ea_9a23_a4bb6da0a148row6_col1\" class=\"data row6 col1\" >$3.60</td>\n",
       "                        <td id=\"T_75f296e6_c4b6_11ea_9a23_a4bb6da0a148row6_col2\" class=\"data row6 col2\" >$147.67</td>\n",
       "                        <td id=\"T_75f296e6_c4b6_11ea_9a23_a4bb6da0a148row6_col3\" class=\"data row6 col3\" >$4.76</td>\n",
       "            </tr>\n",
       "            <tr>\n",
       "                        <th id=\"T_75f296e6_c4b6_11ea_9a23_a4bb6da0a148level0_row7\" class=\"row_heading level0 row7\" >40+</th>\n",
       "                        <td id=\"T_75f296e6_c4b6_11ea_9a23_a4bb6da0a148row7_col0\" class=\"data row7 col0\" >13</td>\n",
       "                        <td id=\"T_75f296e6_c4b6_11ea_9a23_a4bb6da0a148row7_col1\" class=\"data row7 col1\" >$2.94</td>\n",
       "                        <td id=\"T_75f296e6_c4b6_11ea_9a23_a4bb6da0a148row7_col2\" class=\"data row7 col2\" >$38.24</td>\n",
       "                        <td id=\"T_75f296e6_c4b6_11ea_9a23_a4bb6da0a148row7_col3\" class=\"data row7 col3\" >$3.19</td>\n",
       "            </tr>\n",
       "    </tbody></table>"
      ],
      "text/plain": [
       "<pandas.io.formats.style.Styler at 0x2b4aebf1c08>"
      ]
     },
     "execution_count": 227,
     "metadata": {},
     "output_type": "execute_result"
    }
   ],
   "source": [
    "## Purchasing Analysis (Age) - calculations and output\n",
    "purchase_count = age_groups['Purchase ID'].count()\n",
    "player_count = age_groups['SN'].nunique(dropna=True)\n",
    "average_price = age_groups['Price'].sum() / age_groups['Purchase ID'].count()\n",
    "total_purchase = age_groups['Price'].sum()\n",
    "# Sum the pices by gender and divide by the number of unique customers by age group\n",
    "total_purchase_per = age_groups['Price'].sum() / player_count\n",
    "\n",
    "purch_age_df = pd.DataFrame({'Purchase Count':purchase_count\n",
    "                      ,'Average Purchase Price':average_price\n",
    "                      ,'Total Purchase Value':total_purchase\n",
    "                      ,'Avg Total Purchase/Person':total_purchase_per})\n",
    "\n",
    "purch_age_df = purch_age_df.style.format({'Average Purchase Price':   '${:,.2f}',\n",
    "                                          'Total Purchase Value':     '${:,.2f}',\n",
    "                                          'Avg Total Purchase/Person':'${:,.2f}'})\n",
    "purch_age_df"
   ]
  },
  {
   "cell_type": "markdown",
   "metadata": {},
   "source": [
    "### Top Spenders\n",
    "\n",
    "* Identify the the top 5 spenders in the game by total purchase value, then list (in a table):\n",
    "  * SN\n",
    "  * Purchase Count\n",
    "  * Average Purchase Price\n",
    "  * Total Purchase Value"
   ]
  },
  {
   "cell_type": "code",
   "execution_count": 205,
   "metadata": {},
   "outputs": [
    {
     "data": {
      "text/html": [
       "<style  type=\"text/css\" >\n",
       "</style><table id=\"T_a7bbc5d2_c455_11ea_a6d6_a4bb6da0a148\" ><thead>    <tr>        <th class=\"blank level0\" ></th>        <th class=\"col_heading level0 col0\" >Purchase Count</th>        <th class=\"col_heading level0 col1\" >Average Purchase Price</th>        <th class=\"col_heading level0 col2\" >Total Purchase Value</th>    </tr>    <tr>        <th class=\"index_name level0\" >SN</th>        <th class=\"blank\" ></th>        <th class=\"blank\" ></th>        <th class=\"blank\" ></th>    </tr></thead><tbody>\n",
       "                <tr>\n",
       "                        <th id=\"T_a7bbc5d2_c455_11ea_a6d6_a4bb6da0a148level0_row0\" class=\"row_heading level0 row0\" >Lisosia93</th>\n",
       "                        <td id=\"T_a7bbc5d2_c455_11ea_a6d6_a4bb6da0a148row0_col0\" class=\"data row0 col0\" >5</td>\n",
       "                        <td id=\"T_a7bbc5d2_c455_11ea_a6d6_a4bb6da0a148row0_col1\" class=\"data row0 col1\" >$3.79</td>\n",
       "                        <td id=\"T_a7bbc5d2_c455_11ea_a6d6_a4bb6da0a148row0_col2\" class=\"data row0 col2\" >$18.96</td>\n",
       "            </tr>\n",
       "            <tr>\n",
       "                        <th id=\"T_a7bbc5d2_c455_11ea_a6d6_a4bb6da0a148level0_row1\" class=\"row_heading level0 row1\" >Idastidru52</th>\n",
       "                        <td id=\"T_a7bbc5d2_c455_11ea_a6d6_a4bb6da0a148row1_col0\" class=\"data row1 col0\" >4</td>\n",
       "                        <td id=\"T_a7bbc5d2_c455_11ea_a6d6_a4bb6da0a148row1_col1\" class=\"data row1 col1\" >$3.86</td>\n",
       "                        <td id=\"T_a7bbc5d2_c455_11ea_a6d6_a4bb6da0a148row1_col2\" class=\"data row1 col2\" >$15.45</td>\n",
       "            </tr>\n",
       "            <tr>\n",
       "                        <th id=\"T_a7bbc5d2_c455_11ea_a6d6_a4bb6da0a148level0_row2\" class=\"row_heading level0 row2\" >Chamjask73</th>\n",
       "                        <td id=\"T_a7bbc5d2_c455_11ea_a6d6_a4bb6da0a148row2_col0\" class=\"data row2 col0\" >3</td>\n",
       "                        <td id=\"T_a7bbc5d2_c455_11ea_a6d6_a4bb6da0a148row2_col1\" class=\"data row2 col1\" >$4.61</td>\n",
       "                        <td id=\"T_a7bbc5d2_c455_11ea_a6d6_a4bb6da0a148row2_col2\" class=\"data row2 col2\" >$13.83</td>\n",
       "            </tr>\n",
       "            <tr>\n",
       "                        <th id=\"T_a7bbc5d2_c455_11ea_a6d6_a4bb6da0a148level0_row3\" class=\"row_heading level0 row3\" >Iral74</th>\n",
       "                        <td id=\"T_a7bbc5d2_c455_11ea_a6d6_a4bb6da0a148row3_col0\" class=\"data row3 col0\" >4</td>\n",
       "                        <td id=\"T_a7bbc5d2_c455_11ea_a6d6_a4bb6da0a148row3_col1\" class=\"data row3 col1\" >$3.40</td>\n",
       "                        <td id=\"T_a7bbc5d2_c455_11ea_a6d6_a4bb6da0a148row3_col2\" class=\"data row3 col2\" >$13.62</td>\n",
       "            </tr>\n",
       "            <tr>\n",
       "                        <th id=\"T_a7bbc5d2_c455_11ea_a6d6_a4bb6da0a148level0_row4\" class=\"row_heading level0 row4\" >Iskadarya95</th>\n",
       "                        <td id=\"T_a7bbc5d2_c455_11ea_a6d6_a4bb6da0a148row4_col0\" class=\"data row4 col0\" >3</td>\n",
       "                        <td id=\"T_a7bbc5d2_c455_11ea_a6d6_a4bb6da0a148row4_col1\" class=\"data row4 col1\" >$4.37</td>\n",
       "                        <td id=\"T_a7bbc5d2_c455_11ea_a6d6_a4bb6da0a148row4_col2\" class=\"data row4 col2\" >$13.10</td>\n",
       "            </tr>\n",
       "    </tbody></table>"
      ],
      "text/plain": [
       "<pandas.io.formats.style.Styler at 0x2b4aed37bc8>"
      ]
     },
     "execution_count": 205,
     "metadata": {},
     "output_type": "execute_result"
    }
   ],
   "source": [
    "## Top Spenders\n",
    "# Solution 1 - style to do formatting\n",
    "player_df = purchase_data.groupby(['SN'])\n",
    "purchase_count = player_df['Purchase ID'].count()\n",
    "total_purchases = player_df['Price'].sum()\n",
    "# player_total = purchase_data['SN'].nunique(dropna=True)\n",
    "average_price = player_df['Price'].sum() / player_df['Purchase ID'].count()\n",
    "player_df = pd.DataFrame({'Purchase Count':purchase_count\n",
    "                           ,'Average Purchase Price':average_price\n",
    "                           ,'Total Purchase Value':total_purchases\n",
    "                         })\n",
    "player_df = player_df.sort_values('Total Purchase Value',ascending=False)\n",
    "player_df.head().style.format({'Average Purchase Price':   '${:,.2f}',\n",
    "                                    'Total Purchase Value':     '${:,.2f}'})"
   ]
  },
  {
   "cell_type": "code",
   "execution_count": 206,
   "metadata": {},
   "outputs": [
    {
     "data": {
      "text/html": [
       "<div>\n",
       "<style scoped>\n",
       "    .dataframe tbody tr th:only-of-type {\n",
       "        vertical-align: middle;\n",
       "    }\n",
       "\n",
       "    .dataframe tbody tr th {\n",
       "        vertical-align: top;\n",
       "    }\n",
       "\n",
       "    .dataframe thead th {\n",
       "        text-align: right;\n",
       "    }\n",
       "</style>\n",
       "<table border=\"1\" class=\"dataframe\">\n",
       "  <thead>\n",
       "    <tr style=\"text-align: right;\">\n",
       "      <th></th>\n",
       "      <th>Purchase Count</th>\n",
       "      <th>Average Purchase Price</th>\n",
       "      <th>Total Purchase Value</th>\n",
       "    </tr>\n",
       "    <tr>\n",
       "      <th>SN</th>\n",
       "      <th></th>\n",
       "      <th></th>\n",
       "      <th></th>\n",
       "    </tr>\n",
       "  </thead>\n",
       "  <tbody>\n",
       "    <tr>\n",
       "      <th>Lisosia93</th>\n",
       "      <td>5</td>\n",
       "      <td>$3.79</td>\n",
       "      <td>$18.96</td>\n",
       "    </tr>\n",
       "    <tr>\n",
       "      <th>Idastidru52</th>\n",
       "      <td>4</td>\n",
       "      <td>$3.86</td>\n",
       "      <td>$15.45</td>\n",
       "    </tr>\n",
       "    <tr>\n",
       "      <th>Chamjask73</th>\n",
       "      <td>3</td>\n",
       "      <td>$4.61</td>\n",
       "      <td>$13.83</td>\n",
       "    </tr>\n",
       "    <tr>\n",
       "      <th>Iral74</th>\n",
       "      <td>4</td>\n",
       "      <td>$3.40</td>\n",
       "      <td>$13.62</td>\n",
       "    </tr>\n",
       "    <tr>\n",
       "      <th>Iskadarya95</th>\n",
       "      <td>3</td>\n",
       "      <td>$4.37</td>\n",
       "      <td>$13.10</td>\n",
       "    </tr>\n",
       "  </tbody>\n",
       "</table>\n",
       "</div>"
      ],
      "text/plain": [
       "             Purchase Count Average Purchase Price Total Purchase Value\n",
       "SN                                                                     \n",
       "Lisosia93                 5                  $3.79               $18.96\n",
       "Idastidru52               4                  $3.86               $15.45\n",
       "Chamjask73                3                  $4.61               $13.83\n",
       "Iral74                    4                  $3.40               $13.62\n",
       "Iskadarya95               3                  $4.37               $13.10"
      ]
     },
     "execution_count": 206,
     "metadata": {},
     "output_type": "execute_result"
    }
   ],
   "source": [
    "## Top Spenders\n",
    "# Solution 2 - map to do formatting, this one is cleaner\n",
    "player_df = purchase_data.groupby(['SN'])\n",
    "purchase_count = player_df['Purchase ID'].count()\n",
    "total_purchases = player_df['Price'].sum()\n",
    "# player_total = purchase_data['SN'].nunique(dropna=True)\n",
    "average_price = player_df['Price'].sum() / player_df['Purchase ID'].count()\n",
    "\n",
    "player_df = pd.DataFrame({'Purchase Count':purchase_count\n",
    "                         ,'Average Purchase Price':average_price\n",
    "                         ,'Total Purchase Value':total_purchases\n",
    "                         })\n",
    "\n",
    "player_df = player_df.sort_values('Total Purchase Value',ascending=False)\n",
    "\n",
    "player_df['Average Purchase Price'] = player_df['Average Purchase Price'].map('${:,.2f}'.format)\n",
    "player_df['Total Purchase Value']   = player_df['Total Purchase Value'].map('${:,.2f}'.format)\n",
    "\n",
    "player_df.head()"
   ]
  },
  {
   "cell_type": "markdown",
   "metadata": {},
   "source": [
    "### Most Popular Items\n",
    "\n",
    "* Identify the 5 most popular items by purchase count, then list (in a table):\n",
    "  * Item ID\n",
    "  * Item Name\n",
    "  * Purchase Count\n",
    "  * Item Price\n",
    "  * Total Purchase Value"
   ]
  },
  {
   "cell_type": "code",
   "execution_count": 228,
   "metadata": {},
   "outputs": [],
   "source": [
    "## Most <Attribute> Items Setup\n",
    "# Set up the Dataframe\n",
    "item_df = purchase_data.loc[:,['Item ID','Item Name','Price']]\n",
    "item_df = item_df.groupby(['Item ID','Item Name'])\n",
    "purchase_count = item_df['Item ID'].count()\n",
    "total_purchases = item_df['Price'].sum()\n",
    "price = item_df['Price'].mean()\n",
    "average_price = item_df['Price'].sum() / purchase_count\n",
    "item_df = pd.DataFrame({'Purchase Count':purchase_count\n",
    "                       ,'Item Price':price\n",
    "                       ,'Total Purchase Value':total_purchases\n",
    "                         })"
   ]
  },
  {
   "cell_type": "code",
   "execution_count": 229,
   "metadata": {},
   "outputs": [
    {
     "data": {
      "text/html": [
       "<div>\n",
       "<style scoped>\n",
       "    .dataframe tbody tr th:only-of-type {\n",
       "        vertical-align: middle;\n",
       "    }\n",
       "\n",
       "    .dataframe tbody tr th {\n",
       "        vertical-align: top;\n",
       "    }\n",
       "\n",
       "    .dataframe thead th {\n",
       "        text-align: right;\n",
       "    }\n",
       "</style>\n",
       "<table border=\"1\" class=\"dataframe\">\n",
       "  <thead>\n",
       "    <tr style=\"text-align: right;\">\n",
       "      <th></th>\n",
       "      <th></th>\n",
       "      <th>Purchase Count</th>\n",
       "      <th>Item Price</th>\n",
       "      <th>Total Purchase Value</th>\n",
       "    </tr>\n",
       "    <tr>\n",
       "      <th>Item ID</th>\n",
       "      <th>Item Name</th>\n",
       "      <th></th>\n",
       "      <th></th>\n",
       "      <th></th>\n",
       "    </tr>\n",
       "  </thead>\n",
       "  <tbody>\n",
       "    <tr>\n",
       "      <th>92</th>\n",
       "      <th>Final Critic</th>\n",
       "      <td>13</td>\n",
       "      <td>$4.61</td>\n",
       "      <td>$59.99</td>\n",
       "    </tr>\n",
       "    <tr>\n",
       "      <th>178</th>\n",
       "      <th>Oathbreaker, Last Hope of the Breaking Storm</th>\n",
       "      <td>12</td>\n",
       "      <td>$4.23</td>\n",
       "      <td>$50.76</td>\n",
       "    </tr>\n",
       "    <tr>\n",
       "      <th>145</th>\n",
       "      <th>Fiery Glass Crusader</th>\n",
       "      <td>9</td>\n",
       "      <td>$4.58</td>\n",
       "      <td>$41.22</td>\n",
       "    </tr>\n",
       "    <tr>\n",
       "      <th>132</th>\n",
       "      <th>Persuasion</th>\n",
       "      <td>9</td>\n",
       "      <td>$3.22</td>\n",
       "      <td>$28.99</td>\n",
       "    </tr>\n",
       "    <tr>\n",
       "      <th>108</th>\n",
       "      <th>Extraction, Quickblade Of Trembling Hands</th>\n",
       "      <td>9</td>\n",
       "      <td>$3.53</td>\n",
       "      <td>$31.77</td>\n",
       "    </tr>\n",
       "  </tbody>\n",
       "</table>\n",
       "</div>"
      ],
      "text/plain": [
       "                                                     Purchase Count  \\\n",
       "Item ID Item Name                                                     \n",
       "92      Final Critic                                             13   \n",
       "178     Oathbreaker, Last Hope of the Breaking Storm             12   \n",
       "145     Fiery Glass Crusader                                      9   \n",
       "132     Persuasion                                                9   \n",
       "108     Extraction, Quickblade Of Trembling Hands                 9   \n",
       "\n",
       "                                                     Item Price  \\\n",
       "Item ID Item Name                                                 \n",
       "92      Final Critic                                      $4.61   \n",
       "178     Oathbreaker, Last Hope of the Breaking Storm      $4.23   \n",
       "145     Fiery Glass Crusader                              $4.58   \n",
       "132     Persuasion                                        $3.22   \n",
       "108     Extraction, Quickblade Of Trembling Hands         $3.53   \n",
       "\n",
       "                                                     Total Purchase Value  \n",
       "Item ID Item Name                                                          \n",
       "92      Final Critic                                               $59.99  \n",
       "178     Oathbreaker, Last Hope of the Breaking Storm               $50.76  \n",
       "145     Fiery Glass Crusader                                       $41.22  \n",
       "132     Persuasion                                                 $28.99  \n",
       "108     Extraction, Quickblade Of Trembling Hands                  $31.77  "
      ]
     },
     "execution_count": 229,
     "metadata": {},
     "output_type": "execute_result"
    }
   ],
   "source": [
    "## Most Popular Items\n",
    "# Sort by Purchase Count and format\n",
    "item_df1 = item_df.sort_values('Purchase Count',ascending=False)\n",
    "item_df1['Purchase Count']         = item_df1['Purchase Count'].map('{:,.0f}'.format)\n",
    "item_df1['Item Price']             = item_df1['Item Price'].map('${:,.2f}'.format)\n",
    "item_df1['Total Purchase Value']   = item_df1['Total Purchase Value'].map('${:,.2f}'.format)\n",
    "\n",
    "item_df1.head()"
   ]
  },
  {
   "cell_type": "markdown",
   "metadata": {},
   "source": [
    "### Most Profitable Items\n",
    "\n",
    "* Identify the 5 most profitable items by total purchase value, then list (in a table):\n",
    "  * Item ID\n",
    "  * Item Name\n",
    "  * Purchase Count\n",
    "  * Item Price\n",
    "  * Total Purchase Value"
   ]
  },
  {
   "cell_type": "code",
   "execution_count": 230,
   "metadata": {},
   "outputs": [
    {
     "data": {
      "text/html": [
       "<div>\n",
       "<style scoped>\n",
       "    .dataframe tbody tr th:only-of-type {\n",
       "        vertical-align: middle;\n",
       "    }\n",
       "\n",
       "    .dataframe tbody tr th {\n",
       "        vertical-align: top;\n",
       "    }\n",
       "\n",
       "    .dataframe thead th {\n",
       "        text-align: right;\n",
       "    }\n",
       "</style>\n",
       "<table border=\"1\" class=\"dataframe\">\n",
       "  <thead>\n",
       "    <tr style=\"text-align: right;\">\n",
       "      <th></th>\n",
       "      <th></th>\n",
       "      <th>Purchase Count</th>\n",
       "      <th>Item Price</th>\n",
       "      <th>Total Purchase Value</th>\n",
       "    </tr>\n",
       "    <tr>\n",
       "      <th>Item ID</th>\n",
       "      <th>Item Name</th>\n",
       "      <th></th>\n",
       "      <th></th>\n",
       "      <th></th>\n",
       "    </tr>\n",
       "  </thead>\n",
       "  <tbody>\n",
       "    <tr>\n",
       "      <th>92</th>\n",
       "      <th>Final Critic</th>\n",
       "      <td>13</td>\n",
       "      <td>$4.61</td>\n",
       "      <td>$59.99</td>\n",
       "    </tr>\n",
       "    <tr>\n",
       "      <th>178</th>\n",
       "      <th>Oathbreaker, Last Hope of the Breaking Storm</th>\n",
       "      <td>12</td>\n",
       "      <td>$4.23</td>\n",
       "      <td>$50.76</td>\n",
       "    </tr>\n",
       "    <tr>\n",
       "      <th>82</th>\n",
       "      <th>Nirvana</th>\n",
       "      <td>9</td>\n",
       "      <td>$4.90</td>\n",
       "      <td>$44.10</td>\n",
       "    </tr>\n",
       "    <tr>\n",
       "      <th>145</th>\n",
       "      <th>Fiery Glass Crusader</th>\n",
       "      <td>9</td>\n",
       "      <td>$4.58</td>\n",
       "      <td>$41.22</td>\n",
       "    </tr>\n",
       "    <tr>\n",
       "      <th>103</th>\n",
       "      <th>Singed Scalpel</th>\n",
       "      <td>8</td>\n",
       "      <td>$4.35</td>\n",
       "      <td>$34.80</td>\n",
       "    </tr>\n",
       "  </tbody>\n",
       "</table>\n",
       "</div>"
      ],
      "text/plain": [
       "                                                     Purchase Count  \\\n",
       "Item ID Item Name                                                     \n",
       "92      Final Critic                                             13   \n",
       "178     Oathbreaker, Last Hope of the Breaking Storm             12   \n",
       "82      Nirvana                                                   9   \n",
       "145     Fiery Glass Crusader                                      9   \n",
       "103     Singed Scalpel                                            8   \n",
       "\n",
       "                                                     Item Price  \\\n",
       "Item ID Item Name                                                 \n",
       "92      Final Critic                                      $4.61   \n",
       "178     Oathbreaker, Last Hope of the Breaking Storm      $4.23   \n",
       "82      Nirvana                                           $4.90   \n",
       "145     Fiery Glass Crusader                              $4.58   \n",
       "103     Singed Scalpel                                    $4.35   \n",
       "\n",
       "                                                     Total Purchase Value  \n",
       "Item ID Item Name                                                          \n",
       "92      Final Critic                                               $59.99  \n",
       "178     Oathbreaker, Last Hope of the Breaking Storm               $50.76  \n",
       "82      Nirvana                                                    $44.10  \n",
       "145     Fiery Glass Crusader                                       $41.22  \n",
       "103     Singed Scalpel                                             $34.80  "
      ]
     },
     "execution_count": 230,
     "metadata": {},
     "output_type": "execute_result"
    }
   ],
   "source": [
    "## Most Profitable Items\n",
    "# Sort by Total Purchase Value and format\n",
    "item_df2 = item_df.sort_values('Total Purchase Value',ascending=False)\n",
    "\n",
    "item_df2['Purchase Count']         = item_df2['Purchase Count'].map('{:,.0f}'.format)\n",
    "item_df2['Item Price']             = item_df2['Item Price'].map('${:,.2f}'.format)\n",
    "item_df2['Total Purchase Value']   = item_df2['Total Purchase Value'].map('${:,.2f}'.format)\n",
    "\n",
    "item_df2.head()"
   ]
  },
  {
   "cell_type": "markdown",
   "metadata": {},
   "source": [
    "### Observations (Observable Trends)\n",
    "\n",
    "* From a strict defintion standpoint, a trend is a behavior over time.\n",
    "    This data is not a time series so there is no observable trend.\n",
    "    So instead I will provide three observations:\n",
    "\n",
    "  1 While females spend a bit more than males, only 14% of players are female.  I would suggest\n",
    "    that the Heroes of Pymoli product manager either adds a female friendly experience or\n",
    "    introduce a version targeted for females.\n",
    "  2 The highest revenue items correspond to the highest price items.  This indicates players\n",
    "    are willing to pay a premium price.  The HoP product manager should consider a re-pricing\n",
    "    upward to take advantage of this behavior.\n",
    "  3 The age group 20-24 is generating a large percentage of revenue versus the 25-29 age group.\n",
    "    Since these two age groups are so close, there is some reason for such a steep drop off\n",
    "    ($1114 to $293).  This chould be studied to discover how to capture this age group closer\n",
    "    to the revenue of the 25-29 group."
   ]
  }
 ],
 "metadata": {
  "anaconda-cloud": {},
  "kernel_info": {
   "name": "python3"
  },
  "kernelspec": {
   "display_name": "Python 3",
   "language": "python",
   "name": "python3"
  },
  "language_info": {
   "codemirror_mode": {
    "name": "ipython",
    "version": 3
   },
   "file_extension": ".py",
   "mimetype": "text/x-python",
   "name": "python",
   "nbconvert_exporter": "python",
   "pygments_lexer": "ipython3",
   "version": "3.7.6"
  },
  "latex_envs": {
   "LaTeX_envs_menu_present": true,
   "autoclose": false,
   "autocomplete": true,
   "bibliofile": "biblio.bib",
   "cite_by": "apalike",
   "current_citInitial": 1,
   "eqLabelWithNumbers": true,
   "eqNumInitial": 1,
   "hotkeys": {
    "equation": "Ctrl-E",
    "itemize": "Ctrl-I"
   },
   "labels_anchors": false,
   "latex_user_defs": false,
   "report_style_numbering": false,
   "user_envs_cfg": false
  },
  "nteract": {
   "version": "0.2.0"
  }
 },
 "nbformat": 4,
 "nbformat_minor": 2
}
